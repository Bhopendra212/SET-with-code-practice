{
 "cells": [
  {
   "cell_type": "code",
   "execution_count": 1,
   "id": "66871d84-54c5-4712-a8ba-a862f2e0a470",
   "metadata": {},
   "outputs": [],
   "source": [
    "#creating a set"
   ]
  },
  {
   "cell_type": "code",
   "execution_count": 2,
   "id": "1376de74-3ceb-417d-8fdd-66b4ac865b2a",
   "metadata": {},
   "outputs": [
    {
     "name": "stdout",
     "output_type": "stream",
     "text": [
      "{'ball', 'cat', 'animals'}\n",
      "<class 'set'>\n"
     ]
    }
   ],
   "source": [
    "a={'animals','ball','cat'}\n",
    "print(a)\n",
    "print(type(a))"
   ]
  },
  {
   "cell_type": "code",
   "execution_count": 3,
   "id": "c51e4d0f-833c-4dd8-89ec-0afb8f49e327",
   "metadata": {},
   "outputs": [],
   "source": [
    "#set items are unordered"
   ]
  },
  {
   "cell_type": "code",
   "execution_count": 4,
   "id": "a44eef65-49d0-4044-9776-2ca1d8086720",
   "metadata": {},
   "outputs": [
    {
     "ename": "TypeError",
     "evalue": "'set' object is not subscriptable",
     "output_type": "error",
     "traceback": [
      "\u001b[1;31m---------------------------------------------------------------------------\u001b[0m",
      "\u001b[1;31mTypeError\u001b[0m                                 Traceback (most recent call last)",
      "Cell \u001b[1;32mIn[4], line 2\u001b[0m\n\u001b[0;32m      1\u001b[0m a\u001b[38;5;241m=\u001b[39m{\u001b[38;5;124m'\u001b[39m\u001b[38;5;124manimals\u001b[39m\u001b[38;5;124m'\u001b[39m,\u001b[38;5;124m'\u001b[39m\u001b[38;5;124mball\u001b[39m\u001b[38;5;124m'\u001b[39m,\u001b[38;5;124m'\u001b[39m\u001b[38;5;124mcat\u001b[39m\u001b[38;5;124m'\u001b[39m}\n\u001b[1;32m----> 2\u001b[0m \u001b[38;5;28mprint\u001b[39m(\u001b[43ma\u001b[49m\u001b[43m[\u001b[49m\u001b[38;5;241;43m1\u001b[39;49m\u001b[43m]\u001b[49m)\n",
      "\u001b[1;31mTypeError\u001b[0m: 'set' object is not subscriptable"
     ]
    }
   ],
   "source": [
    "a={'animals','ball','cat'}\n",
    "print(a[1])"
   ]
  },
  {
   "cell_type": "code",
   "execution_count": 5,
   "id": "3f6a876b-d7ed-47cc-a36c-e68fd07a4353",
   "metadata": {},
   "outputs": [],
   "source": [
    "#duplicates not allowed"
   ]
  },
  {
   "cell_type": "code",
   "execution_count": 6,
   "id": "fdfc54f5-e91d-485d-9005-251213395ffb",
   "metadata": {},
   "outputs": [
    {
     "name": "stdout",
     "output_type": "stream",
     "text": [
      "{'ball', 'cat', 'animals'}\n"
     ]
    }
   ],
   "source": [
    "a={'animals','ball','cat','animals','cat'}\n",
    "print(a)"
   ]
  },
  {
   "cell_type": "code",
   "execution_count": 7,
   "id": "d25967f8-2482-497b-84e4-2084b0fc8733",
   "metadata": {},
   "outputs": [],
   "source": [
    "#True and 1 are considered as same value"
   ]
  },
  {
   "cell_type": "code",
   "execution_count": 8,
   "id": "98b2c374-4b14-4df2-8dd1-33eefbc807ee",
   "metadata": {},
   "outputs": [
    {
     "name": "stdout",
     "output_type": "stream",
     "text": [
      "{1, 2, 3, 'cat', 'animals', 'ball'}\n"
     ]
    }
   ],
   "source": [
    "a={'animals','ball','cat','animals','cat','ball',1,2,3,True}\n",
    "print(a)"
   ]
  },
  {
   "cell_type": "code",
   "execution_count": 9,
   "id": "eceefdec-1285-4382-b002-6216d268bf47",
   "metadata": {},
   "outputs": [],
   "source": [
    "# length of the set"
   ]
  },
  {
   "cell_type": "code",
   "execution_count": 10,
   "id": "9d34f709-65e8-4fdd-a81f-0921fac2408a",
   "metadata": {},
   "outputs": [
    {
     "name": "stdout",
     "output_type": "stream",
     "text": [
      "6\n"
     ]
    }
   ],
   "source": [
    "a={'animals','ball','cat','animals','cat','ball',1,2,3,True}\n",
    "print(len(a))"
   ]
  },
  {
   "cell_type": "code",
   "execution_count": 11,
   "id": "ace35248-c20c-466e-86cc-1f4d3b9a0989",
   "metadata": {},
   "outputs": [],
   "source": [
    "#set item- Data type"
   ]
  },
  {
   "cell_type": "code",
   "execution_count": 13,
   "id": "1f449040-6646-460b-af7a-34e08f6ac06d",
   "metadata": {},
   "outputs": [
    {
     "name": "stdout",
     "output_type": "stream",
     "text": [
      "{1, 2, 3, 4} {1.1, 2.2, 3.3, 4.4} {'c', 'a', 'b'} {False, True}\n"
     ]
    }
   ],
   "source": [
    "x1={1,2,3,4}\n",
    "x2={1.1,2.2,3.3,4.4}\n",
    "x3={'a','b','c'}\n",
    "x4={True,False,True}\n",
    "print(x1,x2,x3,x4)"
   ]
  },
  {
   "cell_type": "code",
   "execution_count": 14,
   "id": "ff4400dd-bc8f-4c8f-a619-b8939502203c",
   "metadata": {},
   "outputs": [
    {
     "name": "stdout",
     "output_type": "stream",
     "text": [
      "{True, 3, 4.5, (2+3j), -4}\n"
     ]
    }
   ],
   "source": [
    "m={3,-4,4.5,2+3j,True}\n",
    "print(m)"
   ]
  },
  {
   "cell_type": "code",
   "execution_count": 15,
   "id": "931b2e38-6c03-4cc7-a940-7580f484760b",
   "metadata": {},
   "outputs": [],
   "source": [
    "# tuple inside set"
   ]
  },
  {
   "cell_type": "code",
   "execution_count": 16,
   "id": "19cf6368-f474-4c52-8d10-44edf0f7e76c",
   "metadata": {},
   "outputs": [
    {
     "name": "stdout",
     "output_type": "stream",
     "text": [
      "{(1, 2, 3, 4, 5)}\n"
     ]
    }
   ],
   "source": [
    "x5={(1,2,3,4,5)}\n",
    "print(x5)"
   ]
  },
  {
   "cell_type": "code",
   "execution_count": 18,
   "id": "494fc852-3a3b-43a4-9a77-74fdd332a13d",
   "metadata": {},
   "outputs": [],
   "source": [
    "#set() contructor"
   ]
  },
  {
   "cell_type": "code",
   "execution_count": 22,
   "id": "3a0d7a19-c9a3-4a18-b20a-d4c67bc32f4f",
   "metadata": {},
   "outputs": [
    {
     "name": "stdout",
     "output_type": "stream",
     "text": [
      "{'alpha', 'gamma', 'beta'}\n",
      "<class 'set'>\n"
     ]
    }
   ],
   "source": [
    "thisset=set(('alpha','beta','gamma'))\n",
    "print(thisset)\n",
    "print(type(thisset))"
   ]
  },
  {
   "cell_type": "code",
   "execution_count": null,
   "id": "4beb0e8e-d2f5-470e-9d31-865dee1c9515",
   "metadata": {},
   "outputs": [],
   "source": [
    "#empty set\n"
   ]
  },
  {
   "cell_type": "code",
   "execution_count": 23,
   "id": "24d28b24-a641-46f2-8e7a-370c09dd3fd9",
   "metadata": {},
   "outputs": [
    {
     "name": "stdout",
     "output_type": "stream",
     "text": [
      "set()\n",
      "<class 'set'>\n"
     ]
    }
   ],
   "source": [
    "b=set()\n",
    "print(b)\n",
    "print(type(b))"
   ]
  },
  {
   "cell_type": "code",
   "execution_count": 24,
   "id": "6039cd1f-fcad-402a-bb37-d9abf2c37535",
   "metadata": {},
   "outputs": [],
   "source": [
    "# access items"
   ]
  },
  {
   "cell_type": "code",
   "execution_count": 25,
   "id": "2f4435d7-aef8-4fd3-b1e0-93a1de2e1376",
   "metadata": {},
   "outputs": [
    {
     "name": "stdout",
     "output_type": "stream",
     "text": [
      "c\n",
      "a\n",
      "d\n",
      "b\n"
     ]
    }
   ],
   "source": [
    "a={'a','b','c','d'}\n",
    "\n",
    "for x in a:\n",
    "    print(x)"
   ]
  },
  {
   "cell_type": "code",
   "execution_count": 27,
   "id": "d76f70da-e568-4111-8139-3cacf472b370",
   "metadata": {},
   "outputs": [],
   "source": [
    "# check if \"item\" is present in the set"
   ]
  },
  {
   "cell_type": "code",
   "execution_count": 28,
   "id": "a2e5650c-373a-4c3c-9bf9-a395f53e86b4",
   "metadata": {},
   "outputs": [
    {
     "name": "stdout",
     "output_type": "stream",
     "text": [
      "True\n"
     ]
    }
   ],
   "source": [
    "a={'a','b','c','d'}\n",
    "\n",
    "print('c' in a)"
   ]
  },
  {
   "cell_type": "code",
   "execution_count": 29,
   "id": "84b3cfe2-dc85-488c-8c56-29885d44786d",
   "metadata": {},
   "outputs": [
    {
     "name": "stdout",
     "output_type": "stream",
     "text": [
      "False\n"
     ]
    }
   ],
   "source": [
    "a={'a','b','c','d'}\n",
    "\n",
    "print('e' in a)"
   ]
  },
  {
   "cell_type": "code",
   "execution_count": 30,
   "id": "cb92ae74-867b-4c29-95ef-faed69b0b75c",
   "metadata": {},
   "outputs": [],
   "source": [
    "# Add items "
   ]
  },
  {
   "cell_type": "code",
   "execution_count": 31,
   "id": "bb15f507-e4d8-4ed7-a59c-473a010667d6",
   "metadata": {},
   "outputs": [
    {
     "name": "stdout",
     "output_type": "stream",
     "text": [
      "{'b', 'c', 'e', 'a', 'd'}\n"
     ]
    }
   ],
   "source": [
    "c={'a','b','c','d'}\n",
    "c.add('e')\n",
    "print(c)"
   ]
  },
  {
   "cell_type": "code",
   "execution_count": 33,
   "id": "e00d6c9e-8b3f-4d45-8cca-73f89001fe13",
   "metadata": {},
   "outputs": [
    {
     "name": "stdout",
     "output_type": "stream",
     "text": [
      "{'b', 'c', 'h', 'e', 'g', 'a', 'd', 'f'}\n"
     ]
    }
   ],
   "source": [
    "c={'a','b','c','d'}\n",
    "d={'e','f','g','h'}\n",
    "c.update(d)\n",
    "print(c)"
   ]
  },
  {
   "cell_type": "code",
   "execution_count": 34,
   "id": "88df1356-efac-41e7-a20b-9cc4987dbfe6",
   "metadata": {},
   "outputs": [],
   "source": [
    "# Remove set items"
   ]
  },
  {
   "cell_type": "code",
   "execution_count": 36,
   "id": "d9dd5b1a-9b01-4251-8799-fcf5c2cdd336",
   "metadata": {},
   "outputs": [
    {
     "name": "stdout",
     "output_type": "stream",
     "text": [
      "{'b', 'c', 'h', 'e', 'a', 'd', 'f'}\n"
     ]
    }
   ],
   "source": [
    "n={'b', 'c', 'h', 'e', 'g', 'a', 'd', 'f'}\n",
    "n.remove('g')\n",
    "print(n)"
   ]
  },
  {
   "cell_type": "code",
   "execution_count": 37,
   "id": "5f388aeb-5999-4258-a7e2-fe0db7ee9679",
   "metadata": {},
   "outputs": [
    {
     "name": "stdout",
     "output_type": "stream",
     "text": [
      "{'c', 'h', 'e', 'g', 'a', 'd', 'f'}\n"
     ]
    }
   ],
   "source": [
    "m={'b', 'c', 'h', 'e', 'g', 'a', 'd', 'f'}\n",
    "x=m.pop()\n",
    "print(m)"
   ]
  },
  {
   "cell_type": "code",
   "execution_count": 39,
   "id": "f2d486e8-680a-4956-af58-b855d5bace94",
   "metadata": {},
   "outputs": [
    {
     "name": "stdout",
     "output_type": "stream",
     "text": [
      "set()\n"
     ]
    }
   ],
   "source": [
    "m={'b', 'c', 'h', 'e', 'g', 'a', 'd', 'f'}\n",
    "x=m.clear()                       # clear all the items\n",
    "print(m)"
   ]
  },
  {
   "cell_type": "code",
   "execution_count": 44,
   "id": "4eb310ff-8b0f-4e4c-952c-3a7fa423c2c5",
   "metadata": {},
   "outputs": [
    {
     "ename": "NameError",
     "evalue": "name 'm' is not defined",
     "output_type": "error",
     "traceback": [
      "\u001b[1;31m---------------------------------------------------------------------------\u001b[0m",
      "\u001b[1;31mNameError\u001b[0m                                 Traceback (most recent call last)",
      "Cell \u001b[1;32mIn[44], line 3\u001b[0m\n\u001b[0;32m      1\u001b[0m m\u001b[38;5;241m=\u001b[39m{\u001b[38;5;124m'\u001b[39m\u001b[38;5;124mb\u001b[39m\u001b[38;5;124m'\u001b[39m, \u001b[38;5;124m'\u001b[39m\u001b[38;5;124mc\u001b[39m\u001b[38;5;124m'\u001b[39m, \u001b[38;5;124m'\u001b[39m\u001b[38;5;124mh\u001b[39m\u001b[38;5;124m'\u001b[39m, \u001b[38;5;124m'\u001b[39m\u001b[38;5;124me\u001b[39m\u001b[38;5;124m'\u001b[39m, \u001b[38;5;124m'\u001b[39m\u001b[38;5;124mg\u001b[39m\u001b[38;5;124m'\u001b[39m, \u001b[38;5;124m'\u001b[39m\u001b[38;5;124ma\u001b[39m\u001b[38;5;124m'\u001b[39m, \u001b[38;5;124m'\u001b[39m\u001b[38;5;124md\u001b[39m\u001b[38;5;124m'\u001b[39m, \u001b[38;5;124m'\u001b[39m\u001b[38;5;124mf\u001b[39m\u001b[38;5;124m'\u001b[39m}\n\u001b[0;32m      2\u001b[0m \u001b[38;5;28;01mdel\u001b[39;00m m                              \u001b[38;5;66;03m#deleted set m from memory\u001b[39;00m\n\u001b[1;32m----> 3\u001b[0m \u001b[38;5;28mprint\u001b[39m(\u001b[43mm\u001b[49m)\n",
      "\u001b[1;31mNameError\u001b[0m: name 'm' is not defined"
     ]
    }
   ],
   "source": [
    "m={'b', 'c', 'h', 'e', 'g', 'a', 'd', 'f'}\n",
    "del m                              #deleted set m from memory\n",
    "print(m)"
   ]
  },
  {
   "cell_type": "code",
   "execution_count": 43,
   "id": "b4e93646-aed8-4cc0-a2cd-85a5eeb6ebf6",
   "metadata": {},
   "outputs": [],
   "source": [
    "#join two sets"
   ]
  },
  {
   "cell_type": "code",
   "execution_count": 46,
   "id": "77390daa-b4e0-434b-9377-10ab9befc3da",
   "metadata": {},
   "outputs": [
    {
     "name": "stdout",
     "output_type": "stream",
     "text": [
      "{'b', 'c', 'h', 'e', 'g', 'a', 'd', 'f'}\n"
     ]
    }
   ],
   "source": [
    "m={'b', 'c', 'h', 'e'}\n",
    "n={'g', 'a', 'd', 'f'}\n",
    "x=m.union(n)\n",
    "print(x)"
   ]
  },
  {
   "cell_type": "code",
   "execution_count": 47,
   "id": "508c66df-357f-4a02-985a-3491f994cfa7",
   "metadata": {},
   "outputs": [],
   "source": [
    "# WRITE A PYTHON PROGRAM TO FIND THE MAX AND MIN VALUES"
   ]
  },
  {
   "cell_type": "code",
   "execution_count": 49,
   "id": "bf5f6f29-5c01-4ba7-95d5-e259f0dce312",
   "metadata": {},
   "outputs": [
    {
     "name": "stdout",
     "output_type": "stream",
     "text": [
      "original set elements\n",
      "{65, 2, 50, 5, 10, 15}\n",
      "Maximum value of the set is:\n",
      "65\n",
      "Minimum value of the set is:\n",
      "2\n"
     ]
    }
   ],
   "source": [
    "setn={5,10,15,2,50,65}\n",
    "print('original set elements')\n",
    "print(setn)\n",
    "print('Maximum value of the set is:')\n",
    "print(max(setn))\n",
    "print('Minimum value of the set is:')\n",
    "print(min(setn))\n"
   ]
  },
  {
   "cell_type": "code",
   "execution_count": 50,
   "id": "407afd7b-57f8-429e-8bcd-fe8aace5b1c1",
   "metadata": {},
   "outputs": [],
   "source": [
    "# Return a new set of identical items from 2 sets"
   ]
  },
  {
   "cell_type": "code",
   "execution_count": 52,
   "id": "71f2f418-b8ba-44b2-8c9e-9cfe3bd8a479",
   "metadata": {},
   "outputs": [
    {
     "name": "stdout",
     "output_type": "stream",
     "text": [
      "{40, 30}\n"
     ]
    }
   ],
   "source": [
    "set1={10,20,30,40,50}\n",
    "set2={30,40,60,70}\n",
    "\n",
    "print(set1.intersection(set2))"
   ]
  },
  {
   "cell_type": "code",
   "execution_count": null,
   "id": "4ffdb033-4bf1-4406-8635-040f218ac7ac",
   "metadata": {},
   "outputs": [],
   "source": []
  },
  {
   "cell_type": "code",
   "execution_count": null,
   "id": "990e6442-19f3-4967-8a32-aa8c9c31bcea",
   "metadata": {},
   "outputs": [],
   "source": []
  },
  {
   "cell_type": "code",
   "execution_count": null,
   "id": "3443a1e6-05b7-4242-ad14-fa1bc4dac2ef",
   "metadata": {},
   "outputs": [],
   "source": []
  },
  {
   "cell_type": "code",
   "execution_count": null,
   "id": "ee250079-8ab9-45f3-a3d5-8c4d4309f580",
   "metadata": {},
   "outputs": [],
   "source": []
  }
 ],
 "metadata": {
  "kernelspec": {
   "display_name": "Python 3 (ipykernel)",
   "language": "python",
   "name": "python3"
  },
  "language_info": {
   "codemirror_mode": {
    "name": "ipython",
    "version": 3
   },
   "file_extension": ".py",
   "mimetype": "text/x-python",
   "name": "python",
   "nbconvert_exporter": "python",
   "pygments_lexer": "ipython3",
   "version": "3.11.5"
  }
 },
 "nbformat": 4,
 "nbformat_minor": 5
}
