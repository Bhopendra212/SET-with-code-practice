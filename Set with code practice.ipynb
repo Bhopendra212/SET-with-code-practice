{
 "cells": [
  {
   "cell_type": "code",
   "execution_count": 5,
   "id": "0f71cce9-6cd2-42af-a435-31df2de9454a",
   "metadata": {},
   "outputs": [
    {
     "name": "stdout",
     "output_type": "stream",
     "text": [
      "<class 'set'>\n"
     ]
    }
   ],
   "source": [
    "var=set()      #empty set\n",
    "print(type(var))"
   ]
  },
  {
   "cell_type": "code",
   "execution_count": 6,
   "id": "c3d5a91e-77e2-4926-bf26-10c0b06a8473",
   "metadata": {},
   "outputs": [
    {
     "name": "stdout",
     "output_type": "stream",
     "text": [
      "<class 'set'>\n"
     ]
    }
   ],
   "source": [
    "var={10,12,'rishi',True}\n",
    "print(type(var))"
   ]
  },
  {
   "cell_type": "code",
   "execution_count": 8,
   "id": "dfd20c31-4e30-4a5c-8f9c-d391fb6d1312",
   "metadata": {},
   "outputs": [
    {
     "name": "stdout",
     "output_type": "stream",
     "text": [
      "<class 'set'>\n",
      "{'rishi', True, 10, 12}\n"
     ]
    }
   ],
   "source": [
    "var={10,12,'rishi',True}             #insertion order is not preserved\n",
    "print(type(var))                     #indexing and slicing do not work in SET\n",
    "print(var)"
   ]
  },
  {
   "cell_type": "code",
   "execution_count": 9,
   "id": "56c135bd-d5b2-4d31-baa6-0996b49ae78c",
   "metadata": {},
   "outputs": [],
   "source": [
    "#heterogeneous elements are allowed in SET--- integer,float,string,boolean etc"
   ]
  },
  {
   "cell_type": "code",
   "execution_count": 10,
   "id": "df4ac644-e92b-4751-90cf-ebc3349a9550",
   "metadata": {},
   "outputs": [],
   "source": [
    "#duplicate values are not allowed"
   ]
  },
  {
   "cell_type": "code",
   "execution_count": 12,
   "id": "a8984917-8d14-45b5-83c7-219c28426315",
   "metadata": {},
   "outputs": [
    {
     "name": "stdout",
     "output_type": "stream",
     "text": [
      "{'rishi', True, 2, 3, 4, 10, 12}\n"
     ]
    }
   ],
   "source": [
    "var={10,12,'rishi',True,'rishi',True,10,1,2,3,4}\n",
    "print(var)                          # will keep only unique values or elements"
   ]
  },
  {
   "cell_type": "code",
   "execution_count": 15,
   "id": "9bcc0d52-b127-49f3-9dd7-373d152a56a3",
   "metadata": {},
   "outputs": [
    {
     "name": "stdout",
     "output_type": "stream",
     "text": [
      "{True, 10, 12, 'Learn coding', 'rishi'}\n"
     ]
    }
   ],
   "source": [
    "var={10,12,'rishi',True}\n",
    "var.add(\"Learn coding\")             # SET is mutable, we can add the unique elements in the set\n",
    "print(var)"
   ]
  },
  {
   "cell_type": "code",
   "execution_count": 18,
   "id": "8fc0301d-df5b-48fc-b631-2b79af63c6a2",
   "metadata": {},
   "outputs": [
    {
     "name": "stdout",
     "output_type": "stream",
     "text": [
      "{True, 10, 12, 'Learn coding', 'rishi', 'rishu'}\n"
     ]
    }
   ],
   "source": [
    "var={10,12,'rishi',True}\n",
    "var.add(\"Learn coding\")              # SET is mutable, we can add the unique elements in the set\n",
    "var.add(\"rishu\")\n",
    "print(var)"
   ]
  },
  {
   "cell_type": "code",
   "execution_count": 19,
   "id": "c981c986-13d7-4290-afe1-d40e8e0b3d50",
   "metadata": {},
   "outputs": [],
   "source": [
    "#update method"
   ]
  },
  {
   "cell_type": "code",
   "execution_count": 21,
   "id": "98a80754-2ea9-4b69-b296-6c4bf7c4f411",
   "metadata": {},
   "outputs": [
    {
     "name": "stdout",
     "output_type": "stream",
     "text": [
      "{True, 10, 12, 'Learn coding', 'Rakhi', 'rishi'}\n"
     ]
    }
   ],
   "source": [
    "var={10,12,'rishi',True}\n",
    "var.update([\"Learn coding\",'Rakhi'])             # SET is mutable, we can update the unique elements in the set.\n",
    "print(var)                                       #use [] brackets to add 2 or more than 2 elements in the SET"
   ]
  },
  {
   "cell_type": "code",
   "execution_count": 22,
   "id": "97a07433-6c5d-418f-83ba-5321432004a1",
   "metadata": {},
   "outputs": [],
   "source": [
    "#pop()"
   ]
  },
  {
   "cell_type": "code",
   "execution_count": 25,
   "id": "6d260c02-3791-4851-8acb-84d34d1da932",
   "metadata": {},
   "outputs": [
    {
     "name": "stdout",
     "output_type": "stream",
     "text": [
      "rishi\n",
      "{True, 2, 3, 4, 10, 12}\n"
     ]
    }
   ],
   "source": [
    "var={10,12,'rishi',True,'rishi',True,10,1,2,3,4}\n",
    "print(var.pop())                                 #delete the element\n",
    "print(var)"
   ]
  },
  {
   "cell_type": "code",
   "execution_count": 26,
   "id": "1a52107d-543f-471c-a294-292875ae57b0",
   "metadata": {},
   "outputs": [],
   "source": [
    "#remove()"
   ]
  },
  {
   "cell_type": "code",
   "execution_count": 28,
   "id": "12e9cdf1-777c-4c7b-8866-8b238bf6397f",
   "metadata": {},
   "outputs": [
    {
     "name": "stdout",
     "output_type": "stream",
     "text": [
      "{'rishi', True, 2, 3, 4, 12}\n"
     ]
    }
   ],
   "source": [
    "var={10,12,'rishi',True,'rishi',True,10,1,2,3,4}\n",
    "var.remove(10)                                  #remove the desired element from the SET\n",
    "print(var)                          "
   ]
  },
  {
   "cell_type": "code",
   "execution_count": 29,
   "id": "1aecebac-392a-4418-9c0a-6dce735bfe18",
   "metadata": {},
   "outputs": [],
   "source": [
    "#clear()"
   ]
  },
  {
   "cell_type": "code",
   "execution_count": 31,
   "id": "9bf3f4c9-e681-46e8-9dbe-b17860082ac1",
   "metadata": {},
   "outputs": [
    {
     "name": "stdout",
     "output_type": "stream",
     "text": [
      "set()\n"
     ]
    }
   ],
   "source": [
    "var={10,12,'rishi',True,'rishi',True,10,1,2,3,4}\n",
    "var.clear()                                    #cleared all the SET elements, now my SET is empty\n",
    "print(var)                          "
   ]
  },
  {
   "cell_type": "code",
   "execution_count": 38,
   "id": "202f8178-fb5e-489c-9c23-2ea31b7c19cd",
   "metadata": {},
   "outputs": [],
   "source": [
    "#mathematical operation-- union method"
   ]
  },
  {
   "cell_type": "code",
   "execution_count": 44,
   "id": "dd61b665-87c7-4a11-96db-a2f8454f893c",
   "metadata": {},
   "outputs": [
    {
     "name": "stdout",
     "output_type": "stream",
     "text": [
      "{False, True, 2, 3, 4, 10, 12, 'khushi', 'rishi'}\n",
      "{False, True, 2, 3, 4, 10, 12, 'khushi', 'rishi'}\n"
     ]
    }
   ],
   "source": [
    "var={10,12,'rishi',True,10,1,2,3,4}\n",
    "var2={10,12,'rishi',False,'khushi',True,1,2,3,4}                         \n",
    "print(var.union(var2))                        # union will print the unique elements from the two sets\n",
    "print(var | var2)                             # | operator acts as a union "
   ]
  },
  {
   "cell_type": "code",
   "execution_count": 37,
   "id": "f4667f3f-401a-4c0e-b05a-6822c2f00132",
   "metadata": {},
   "outputs": [],
   "source": [
    "#intersection method --common values"
   ]
  },
  {
   "cell_type": "code",
   "execution_count": 42,
   "id": "a799a767-a27a-4b96-b2d7-8a756021f02c",
   "metadata": {},
   "outputs": [
    {
     "name": "stdout",
     "output_type": "stream",
     "text": [
      "{True, 2, 3, 4, 10, 12, 'rishi'}\n",
      "{True, 2, 3, 4, 10, 12, 'rishi'}\n"
     ]
    }
   ],
   "source": [
    "var={10,12,'rishi',True,10,1,2,3,4}\n",
    "var2={10,12,'rishi',False,'khushi',True,1,2,3,4}                         \n",
    "print(var.intersection(var2))                 # intersection will print the common values\n",
    "print(var & var2)                             # & operator acts as intersection "
   ]
  },
  {
   "cell_type": "code",
   "execution_count": 45,
   "id": "2ac5e81d-5a1c-4ec0-8474-434eb0915b82",
   "metadata": {},
   "outputs": [],
   "source": [
    "# difference method"
   ]
  },
  {
   "cell_type": "code",
   "execution_count": 51,
   "id": "6a648565-6cb2-4e2c-aa24-3da3d5269b97",
   "metadata": {},
   "outputs": [
    {
     "name": "stdout",
     "output_type": "stream",
     "text": [
      "{'act', 100}\n",
      "{'act', 100}\n"
     ]
    }
   ],
   "source": [
    "var={10,12,'rishi',True,10,1,2,3,4,100,'act'}\n",
    "var2={10,12,'rishi',False,'khushi',True,1,2,3,4,}                         \n",
    "print(var.difference(var2))                   #will print the difference between two sets\n",
    "print(var-var2)"
   ]
  },
  {
   "cell_type": "code",
   "execution_count": 53,
   "id": "3f57e01a-6b6e-4bb3-a9b3-6047976c4f8b",
   "metadata": {},
   "outputs": [
    {
     "name": "stdout",
     "output_type": "stream",
     "text": [
      "{False, 'khushi'}\n"
     ]
    }
   ],
   "source": [
    "var={10,12,'rishi',True,10,1,2,3,4}\n",
    "var2={10,12,'rishi',False,'khushi',True,1,2,3,4}                         \n",
    "print(var.symmetric_difference(var2))   "
   ]
  },
  {
   "cell_type": "code",
   "execution_count": null,
   "id": "9183468d-d899-4f82-ae11-f95637df8f03",
   "metadata": {},
   "outputs": [],
   "source": []
  },
  {
   "cell_type": "code",
   "execution_count": null,
   "id": "5aff92e2-29d3-483b-b4bd-2775b00565b3",
   "metadata": {},
   "outputs": [],
   "source": []
  }
 ],
 "metadata": {
  "kernelspec": {
   "display_name": "Python 3 (ipykernel)",
   "language": "python",
   "name": "python3"
  },
  "language_info": {
   "codemirror_mode": {
    "name": "ipython",
    "version": 3
   },
   "file_extension": ".py",
   "mimetype": "text/x-python",
   "name": "python",
   "nbconvert_exporter": "python",
   "pygments_lexer": "ipython3",
   "version": "3.11.5"
  }
 },
 "nbformat": 4,
 "nbformat_minor": 5
}
